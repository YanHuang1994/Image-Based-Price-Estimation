{
 "cells": [
  {
   "cell_type": "code",
   "execution_count": 1,
   "id": "d13c3d52",
   "metadata": {},
   "outputs": [],
   "source": [
    "import os\n",
    "import pyautogui\n",
    "import urllib.parse\n",
    "import time\n",
    "import pyperclip\n",
    "import quopri\n",
    "from bs4 import BeautifulSoup\n",
    "from email import policy\n",
    "from email.parser import BytesParser\n",
    "import requests\n",
    "import json\n",
    "import pandas as pd"
   ]
  },
  {
   "cell_type": "code",
   "execution_count": 2,
   "id": "d75e3937",
   "metadata": {},
   "outputs": [],
   "source": [
    "# simulate the operation\n",
    "def auto_download(url,file_name):\n",
    "    pyautogui.hotkey('ctrl', '2') # switch Google Chrome tabs\n",
    "    time.sleep(0.5)\n",
    "    \n",
    "    pyautogui.click(207,55) # click the browser's address bar.\n",
    "    time.sleep(0.5)\n",
    "    \n",
    "    pyautogui.hotkey('ctrl', 'a') # select all the content in address bar.\n",
    "    pyperclip.copy(url) # copy the url from pyperclip\n",
    "    time.sleep(0.5)\n",
    "    \n",
    "    pyautogui.hotkey('ctrl', 'v') # paste the url\n",
    "    time.sleep(0.5)\n",
    "    \n",
    "    pyautogui.hotkey('enter') # access the url\n",
    "    time.sleep(3)\n",
    "    \n",
    "    pyautogui.click(1910,1020)\n",
    "    pyautogui.mouseDown() # scroll down the page to look through all guitars\n",
    "    time.sleep(30)\n",
    "    pyautogui.mouseUp()# release the left mouse button\n",
    "    \n",
    "    pyautogui.hotkey('ctrl', 's') # save the page to local path\n",
    "    time.sleep(2)\n",
    "    \n",
    "    pyperclip.copy(file_name) # copy the file name\n",
    "    pyautogui.hotkey('ctrl', 'v') # paste the file name\n",
    "    time.sleep(2)\n",
    "    \n",
    "    pyautogui.hotkey('enter') # save the page with given name"
   ]
  },
  {
   "cell_type": "code",
   "execution_count": 4,
   "id": "265d3c81",
   "metadata": {},
   "outputs": [],
   "source": [
    "# url for guitarcenter\n",
    "base_url = \"https://www.guitarcenter.com/6-String-Acoustic-Guitars.gc?N=1076+18154&Ns=bM&pageName=subcategory-page&recsPerPage=96&profileCountryCode=US&profileCurrencyCode=USD&SPA=true&Nao=\"\n",
    "\n",
    "# download pages\n",
    "def download_pages_guitarcenter(pages,step):\n",
    "    for i in range(0,pages * step, step):\n",
    "        url = base_url + str(i)\n",
    "        auto_download(url, \"guitar_\" + str(int(i/step)))\n",
    "        time.sleep(5)\n",
    "\n",
    "download_pages_guitarcenter(44,96)"
   ]
  },
  {
   "cell_type": "code",
   "execution_count": 3,
   "id": "137ddfb0",
   "metadata": {},
   "outputs": [],
   "source": [
    "# parse the guitarcenter mhtml files\n",
    "def parse_mhtml_guitarcenter(file_path):\n",
    "    # Open the MHTML file in binary mode and parse it\n",
    "    with open(file_path, 'rb') as file:\n",
    "        msg = BytesParser(policy=policy.default).parse(file)\n",
    "\n",
    "    # Decode the HTML part correctly\n",
    "    html_part = None\n",
    "    for part in msg.walk():\n",
    "        content_type = part.get_content_type()\n",
    "        if content_type == 'text/html':\n",
    "            html_part = part.get_payload(decode=True)\n",
    "            break\n",
    "\n",
    "    charset = 'utf-8'\n",
    "    decoded_html = html_part.decode(charset)\n",
    "\n",
    "    # Use BeautifulSoup to parse the decoded HTML\n",
    "    soup = BeautifulSoup(decoded_html, 'html.parser')\n",
    "    \n",
    "    # Get the div with the class of jsx-1611966181 flex flex-auto flex-wrap\n",
    "    div = soup.find(class_=\"jsx-1611966181 flex flex-auto flex-wrap\")\n",
    "\n",
    "    # get the item list from that class\n",
    "    item_list = div.find_all(\"section\",class_=\"plp-product-grid py-[19px] md:p-1.5 flex flex-none flex-col md:flex-row md:border-none border-b border-solid border-[#BBBBBB] w-full md:w-1/2 lg:w-1/3 xl:w-1/4\")\n",
    "    \n",
    "    return item_list"
   ]
  },
  {
   "cell_type": "code",
   "execution_count": 4,
   "id": "41db4a4a",
   "metadata": {},
   "outputs": [],
   "source": [
    "# extract the information of item\n",
    "def instru_info_guitarcenter(item_list):\n",
    "    # create a empty dictionary\n",
    "    item_dict = {}\n",
    "\n",
    "    for i in item_list:\n",
    "        # image class\n",
    "        img = i.find(class_ = \"jsx-406435821 w-[264px] mt-5 md:mt-0\")\n",
    "        # title of guitar\n",
    "        title = img.find_all(\"img\")[1][\"alt\"]\n",
    "        # url of guitar image\n",
    "        imgurl = img.find_all(\"img\")[1][\"src\"]\n",
    "        # id for the guitar\n",
    "        item_id = imgurl.split(\"/\")[-1].split(\"-\")[0]\n",
    "        # price of guitar\n",
    "        price = i.find(class_ = \"jsx-2420341498 sale-price gc-font-bold text-[#2d2d2d]\").text\n",
    "        # location of the seller of the guitar\n",
    "        if i.find(class_ = \"jsx-3430979785 store-name-text\"):\n",
    "            location = i.find(class_ = \"jsx-3430979785 store-name-text\").text\n",
    "        else:\n",
    "            location = None\n",
    "        # condition of the guitar\n",
    "        condition = i.find(class_ = \"jsx-3430979785 gc-font-light mb-2 text-xs\").text.replace(\"Condition:\",\"\").strip()\n",
    "        # add the info into dict\n",
    "        item_dict[item_id] = {}\n",
    "        item_dict[item_id]['image'] = imgurl\n",
    "        item_dict[item_id]['title'] = title\n",
    "        item_dict[item_id]['location'] = location\n",
    "        item_dict[item_id]['price'] = price\n",
    "        item_dict[item_id]['condition'] = condition\n",
    "        \n",
    "    return item_dict"
   ]
  },
  {
   "cell_type": "code",
   "execution_count": 5,
   "id": "03128a9e",
   "metadata": {},
   "outputs": [],
   "source": [
    "# download the images\n",
    "def image_download(info,path):\n",
    "    for key,value in info.items():\n",
    "        # download the image that does not exist\n",
    "        if 'image_status' not in info[key]:\n",
    "            # URL of the image\n",
    "            image_url = value['image']\n",
    "            # name of image\n",
    "            file_name = key + \".jpg\"\n",
    "            # the download path\n",
    "            save_path = os.path.join(path, file_name)\n",
    "            # Send a GET request to the image URL\n",
    "            response = requests.get(image_url)\n",
    "\n",
    "            # Check if the request was successful\n",
    "            if response.status_code == 200:\n",
    "                with open(save_path, \"wb\") as file:\n",
    "                    file.write(response.content)\n",
    "                info[key]['image_status'] = 'Success'\n",
    "            \n",
    "            time.sleep(1.7)"
   ]
  },
  {
   "cell_type": "code",
   "execution_count": 6,
   "id": "3fd8888b",
   "metadata": {
    "scrolled": true
   },
   "outputs": [],
   "source": [
    "# file path\n",
    "path = 'D:/Study Abroad/course/CSE498/project/guitar_center_pages'\n",
    "\n",
    "# info of electric guitar\n",
    "guitarcenter_guitar_info = {}\n",
    "\n",
    "# walk through all acoustic guitar files\n",
    "for root, dirs, files in os.walk(path):\n",
    "    for file in files:\n",
    "        file_path = os.path.join(root, file)\n",
    "        item_list = parse_mhtml_guitarcenter(file_path)\n",
    "        item_dict = instru_info_guitarcenter(item_list)\n",
    "        guitarcenter_guitar_info |= item_dict\n",
    "        \n",
    "# get the url of high-resolution images\n",
    "for key,value in guitarcenter_guitar_info.items():\n",
    "    guitarcenter_guitar_info[key][\"image\"] = guitarcenter_guitar_info[key][\"image\"].replace(\"264x264\",\"600x600\")"
   ]
  },
  {
   "cell_type": "code",
   "execution_count": 12,
   "id": "6763f977",
   "metadata": {
    "scrolled": false
   },
   "outputs": [
    {
     "name": "stdout",
     "output_type": "stream",
     "text": [
      "retry 1\n",
      "retry 2\n",
      "retry 3\n",
      "retry 4\n",
      "retry 5\n",
      "retry 6\n",
      "retry 7\n",
      "retry 8\n",
      "retry 9\n",
      "retry 10\n",
      "retry 11\n",
      "retry 12\n",
      "retry 13\n",
      "retry 14\n",
      "retry 15\n",
      "retry 16\n",
      "retry 17\n",
      "retry 18\n",
      "retry 19\n",
      "retry 20\n",
      "retry 21\n",
      "retry 22\n",
      "retry 23\n",
      "retry 24\n",
      "retry 25\n",
      "retry 26\n",
      "retry 27\n",
      "retry 28\n",
      "retry 29\n",
      "retry 30\n"
     ]
    }
   ],
   "source": [
    "# download the high resolution acoustic guitar images\n",
    "count = 0\n",
    "path = 'D:/Study Abroad/course/CSE498/project/guitar_center_images'\n",
    "while sum([int(bool(value.get(\"image_status\",0))) for key,value in guitarcenter_guitar_info.items()]) < 4201:\n",
    "    # handle errors related to unstable internet connection\n",
    "    try:\n",
    "        image_download(guitarcenter_guitar_info,path)\n",
    "    except:\n",
    "        count += 1\n",
    "        print(f\"retry {count}\")\n",
    "        time.sleep(120)"
   ]
  },
  {
   "cell_type": "code",
   "execution_count": 9,
   "id": "9e189c8b",
   "metadata": {},
   "outputs": [],
   "source": [
    "df = pd.DataFrame(guitarcenter_guitar_info).T"
   ]
  },
  {
   "cell_type": "code",
   "execution_count": 12,
   "id": "fc2508c7",
   "metadata": {},
   "outputs": [],
   "source": [
    "df.to_csv(\"D:/Study Abroad/course/CSE498/project/guitar_info.csv\")"
   ]
  },
  {
   "cell_type": "code",
   "execution_count": 25,
   "id": "ed626aaa",
   "metadata": {},
   "outputs": [
    {
     "data": {
      "text/plain": [
       "<Axes: title={'center': 'histogram'}, ylabel='Frequency'>"
      ]
     },
     "execution_count": 25,
     "metadata": {},
     "output_type": "execute_result"
    },
    {
     "data": {
      "image/png": "[encoded data removed]",
      "text/plain": [
       "<Figure size 640x480 with 1 Axes>"
      ]
     },
     "metadata": {},
     "output_type": "display_data"
    }
   ],
   "source": [
    "df[\"price\"].apply(lambda x:float(x.replace(\"$\",\"\").replace(\",\",\"\"))).plot(kind=\"hist\",bins=30,title='histogram',xlabel='price')"
   ]
  }
 ],
 "metadata": {
  "kernelspec": {
   "display_name": "Python 3 (ipykernel)",
   "language": "python",
   "name": "python3"
  },
  "language_info": {
   "codemirror_mode": {
    "name": "ipython",
    "version": 3
   },
   "file_extension": ".py",
   "mimetype": "text/x-python",
   "name": "python",
   "nbconvert_exporter": "python",
   "pygments_lexer": "ipython3",
   "version": "3.11.5"
  }
 },
 "nbformat": 4,
 "nbformat_minor": 5
}
